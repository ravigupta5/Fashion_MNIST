{
 "cells": [
  {
   "cell_type": "code",
   "execution_count": 1,
   "metadata": {
    "colab": {
     "base_uri": "https://localhost:8080/",
     "height": 34
    },
    "colab_type": "code",
    "executionInfo": {
     "elapsed": 2838,
     "status": "ok",
     "timestamp": 1588902429010,
     "user": {
      "displayName": "ravi gupta",
      "photoUrl": "https://lh3.googleusercontent.com/a-/AOh14GjqhlqhiH2lJAcukkpcTJo3UqiaDWIjWK76JIJ2MQ=s64",
      "userId": "06502008462097511592"
     },
     "user_tz": -330
    },
    "id": "LEXH-4RNlBlY",
    "outputId": "bfc12a01-78da-496a-eccf-4c7674cada1c"
   },
   "outputs": [
    {
     "name": "stdout",
     "output_type": "stream",
     "text": [
      "2.2.0-rc4\n"
     ]
    }
   ],
   "source": [
    "import tensorflow as tf\n",
    "print(tf.__version__)"
   ]
  },
  {
   "cell_type": "code",
   "execution_count": null,
   "metadata": {
    "colab": {},
    "colab_type": "code",
    "id": "QsO3GOqU62Vk"
   },
   "outputs": [],
   "source": [
    "import numpy as np\n",
    "import matplotlib.pyplot as plt\n",
    "import seaborn as sns"
   ]
  },
  {
   "cell_type": "markdown",
   "metadata": {
    "colab_type": "text",
    "id": "mYGoGyVC7dmQ"
   },
   "source": [
    "### **Loading the data**"
   ]
  },
  {
   "cell_type": "code",
   "execution_count": null,
   "metadata": {
    "colab": {},
    "colab_type": "code",
    "id": "vYuf9i5OQds0"
   },
   "outputs": [],
   "source": [
    "mnist = tf.keras.datasets.fashion_mnist"
   ]
  },
  {
   "cell_type": "code",
   "execution_count": 4,
   "metadata": {
    "colab": {
     "base_uri": "https://localhost:8080/",
     "height": 153
    },
    "colab_type": "code",
    "executionInfo": {
     "elapsed": 4959,
     "status": "ok",
     "timestamp": 1588902454062,
     "user": {
      "displayName": "ravi gupta",
      "photoUrl": "https://lh3.googleusercontent.com/a-/AOh14GjqhlqhiH2lJAcukkpcTJo3UqiaDWIjWK76JIJ2MQ=s64",
      "userId": "06502008462097511592"
     },
     "user_tz": -330
    },
    "id": "ku6FoNLhTaA0",
    "outputId": "287eeec3-7d66-4775-b64a-6f9e3580b746"
   },
   "outputs": [
    {
     "name": "stdout",
     "output_type": "stream",
     "text": [
      "Downloading data from https://storage.googleapis.com/tensorflow/tf-keras-datasets/train-labels-idx1-ubyte.gz\n",
      "32768/29515 [=================================] - 0s 0us/step\n",
      "Downloading data from https://storage.googleapis.com/tensorflow/tf-keras-datasets/train-images-idx3-ubyte.gz\n",
      "26427392/26421880 [==============================] - 0s 0us/step\n",
      "Downloading data from https://storage.googleapis.com/tensorflow/tf-keras-datasets/t10k-labels-idx1-ubyte.gz\n",
      "8192/5148 [===============================================] - 0s 0us/step\n",
      "Downloading data from https://storage.googleapis.com/tensorflow/tf-keras-datasets/t10k-images-idx3-ubyte.gz\n",
      "4423680/4422102 [==============================] - 0s 0us/step\n"
     ]
    }
   ],
   "source": [
    "(X_train, y_train), (X_test, y_test) = mnist.load_data()"
   ]
  },
  {
   "cell_type": "code",
   "execution_count": 37,
   "metadata": {
    "colab": {
     "base_uri": "https://localhost:8080/",
     "height": 34
    },
    "colab_type": "code",
    "executionInfo": {
     "elapsed": 1865,
     "status": "ok",
     "timestamp": 1588906152286,
     "user": {
      "displayName": "ravi gupta",
      "photoUrl": "https://lh3.googleusercontent.com/a-/AOh14GjqhlqhiH2lJAcukkpcTJo3UqiaDWIjWK76JIJ2MQ=s64",
      "userId": "06502008462097511592"
     },
     "user_tz": -330
    },
    "id": "zoE5erLf6Hdu",
    "outputId": "0b177f2d-7f07-4ca7-adb9-bf1f1659be23"
   },
   "outputs": [
    {
     "name": "stdout",
     "output_type": "stream",
     "text": [
      "(60000, 28, 28, 1) (60000,) (2000, 28, 28, 1) (2000,)\n"
     ]
    }
   ],
   "source": [
    "print(X_train.shape, y_train.shape, X_test.shape, y_test.shape)"
   ]
  },
  {
   "cell_type": "markdown",
   "metadata": {
    "colab_type": "text",
    "id": "1YesSVWX7zB4"
   },
   "source": [
    "Train, validation and test split"
   ]
  },
  {
   "cell_type": "code",
   "execution_count": null,
   "metadata": {
    "colab": {},
    "colab_type": "code",
    "id": "Yolw7oCr6u0w"
   },
   "outputs": [],
   "source": [
    "val_count = 8000\n",
    "X_val = X_test[:val_count]\n",
    "y_val = y_test[:val_count]\n",
    "X_test = X_test[val_count:]\n",
    "y_test = y_test[val_count:]"
   ]
  },
  {
   "cell_type": "code",
   "execution_count": null,
   "metadata": {
    "colab": {},
    "colab_type": "code",
    "id": "F06U4Gba7VHE"
   },
   "outputs": [],
   "source": [
    "test_images, test_labels = X_test.copy(), y_test.copy()"
   ]
  },
  {
   "cell_type": "code",
   "execution_count": null,
   "metadata": {
    "colab": {},
    "colab_type": "code",
    "id": "hYt6RrtY8Vko"
   },
   "outputs": [],
   "source": [
    "X_train = X_train/ 255.0\n",
    "X_val = X_val/ 255.0\n",
    "X_test = X_test/ 255.0"
   ]
  },
  {
   "cell_type": "code",
   "execution_count": 9,
   "metadata": {
    "colab": {
     "base_uri": "https://localhost:8080/",
     "height": 282
    },
    "colab_type": "code",
    "executionInfo": {
     "elapsed": 1348,
     "status": "ok",
     "timestamp": 1588902466287,
     "user": {
      "displayName": "ravi gupta",
      "photoUrl": "https://lh3.googleusercontent.com/a-/AOh14GjqhlqhiH2lJAcukkpcTJo3UqiaDWIjWK76JIJ2MQ=s64",
      "userId": "06502008462097511592"
     },
     "user_tz": -330
    },
    "id": "dPz5GevPCLBt",
    "outputId": "c3128918-51d3-419d-df54-fb373388dbf2"
   },
   "outputs": [
    {
     "data": {
      "text/plain": [
       "<matplotlib.image.AxesImage at 0x7fdd507012e8>"
      ]
     },
     "execution_count": 9,
     "metadata": {
      "tags": []
     },
     "output_type": "execute_result"
    },
    {
     "data": {
      "image/png": "[encoded data removed]",
      "text/plain": [
       "<Figure size 432x288 with 1 Axes>"
      ]
     },
     "metadata": {
      "needs_background": "light",
      "tags": []
     },
     "output_type": "display_data"
    }
   ],
   "source": [
    "plt.imshow(X_test[23])"
   ]
  },
  {
   "cell_type": "markdown",
   "metadata": {
    "colab_type": "text",
    "id": "RKDuxu28vbTO"
   },
   "source": [
    "There are 10 different classes of images:\n",
    "\n",
    "0: T-shirt/top;\n",
    "\n",
    "1: Trouser;\n",
    "\n",
    "2: Pullover;\n",
    "\n",
    "3: Dress;\n",
    "\n",
    "4: Coat;\n",
    "\n",
    "5: Sandal;\n",
    "\n",
    "6: Shirt;\n",
    "\n",
    "7: Sneaker;\n",
    "\n",
    "8: Bag;\n",
    "\n",
    "9: Ankle boot.\n",
    "\n",
    "Image dimmensions are 28x28.\n"
   ]
  },
  {
   "cell_type": "markdown",
   "metadata": {
    "colab_type": "text",
    "id": "kxb6ZgKJvcpm"
   },
   "source": []
  },
  {
   "cell_type": "markdown",
   "metadata": {
    "colab_type": "text",
    "id": "nY54wFPoBWGB"
   },
   "source": [
    "### **Using Convolutions**"
   ]
  },
  {
   "cell_type": "code",
   "execution_count": null,
   "metadata": {
    "colab": {},
    "colab_type": "code",
    "id": "CO_yHKJsOC04"
   },
   "outputs": [],
   "source": [
    "num_epochs=25\n",
    "batch_size=32"
   ]
  },
  {
   "cell_type": "code",
   "execution_count": null,
   "metadata": {
    "colab": {},
    "colab_type": "code",
    "id": "4Vmojep9P91h"
   },
   "outputs": [],
   "source": [
    "X_train=X_train.reshape(60000, 28, 28, 1)\n",
    "X_val=X_val.reshape(val_count, 28, 28, 1)\n",
    "X_test=X_test.reshape(2000, 28, 28, 1)"
   ]
  },
  {
   "cell_type": "code",
   "execution_count": null,
   "metadata": {
    "colab": {},
    "colab_type": "code",
    "id": "Rl8PPM_FOhMr"
   },
   "outputs": [],
   "source": [
    "model = tf.keras.models.Sequential([\n",
    "  tf.keras.layers.Conv2D(32, (3,3), activation='relu', input_shape=(28, 28, 1)),\n",
    "  tf.keras.layers.MaxPooling2D(2, 2),\n",
    "  tf.keras.layers.Flatten(),\n",
    "  tf.keras.layers.Dense(128, activation='relu'),\n",
    "  tf.keras.layers.Dense(10, activation='softmax')\n",
    "])"
   ]
  },
  {
   "cell_type": "code",
   "execution_count": 13,
   "metadata": {
    "colab": {
     "base_uri": "https://localhost:8080/",
     "height": 323
    },
    "colab_type": "code",
    "executionInfo": {
     "elapsed": 2247,
     "status": "ok",
     "timestamp": 1588902514189,
     "user": {
      "displayName": "ravi gupta",
      "photoUrl": "https://lh3.googleusercontent.com/a-/AOh14GjqhlqhiH2lJAcukkpcTJo3UqiaDWIjWK76JIJ2MQ=s64",
      "userId": "06502008462097511592"
     },
     "user_tz": -330
    },
    "id": "wKC54MGtOr2F",
    "outputId": "e530c046-a662-4e43-f9fc-d4230c7cd3a0"
   },
   "outputs": [
    {
     "name": "stdout",
     "output_type": "stream",
     "text": [
      "Model: \"sequential\"\n",
      "_________________________________________________________________\n",
      "Layer (type)                 Output Shape              Param #   \n",
      "=================================================================\n",
      "conv2d (Conv2D)              (None, 26, 26, 32)        320       \n",
      "_________________________________________________________________\n",
      "max_pooling2d (MaxPooling2D) (None, 13, 13, 32)        0         \n",
      "_________________________________________________________________\n",
      "flatten (Flatten)            (None, 5408)              0         \n",
      "_________________________________________________________________\n",
      "dense (Dense)                (None, 128)               692352    \n",
      "_________________________________________________________________\n",
      "dense_1 (Dense)              (None, 10)                1290      \n",
      "=================================================================\n",
      "Total params: 693,962\n",
      "Trainable params: 693,962\n",
      "Non-trainable params: 0\n",
      "_________________________________________________________________\n"
     ]
    }
   ],
   "source": [
    "model.compile(optimizer='adam', loss='sparse_categorical_crossentropy', metrics=['accuracy'])\n",
    "model.summary()"
   ]
  },
  {
   "cell_type": "code",
   "execution_count": 14,
   "metadata": {
    "colab": {
     "base_uri": "https://localhost:8080/",
     "height": 867
    },
    "colab_type": "code",
    "executionInfo": {
     "elapsed": 150779,
     "status": "ok",
     "timestamp": 1588902667137,
     "user": {
      "displayName": "ravi gupta",
      "photoUrl": "https://lh3.googleusercontent.com/a-/AOh14GjqhlqhiH2lJAcukkpcTJo3UqiaDWIjWK76JIJ2MQ=s64",
      "userId": "06502008462097511592"
     },
     "user_tz": -330
    },
    "id": "wQJGo_rnEL_9",
    "outputId": "1e8b40a8-62ff-488c-eb04-e9f752df6c2e"
   },
   "outputs": [
    {
     "name": "stdout",
     "output_type": "stream",
     "text": [
      "Epoch 1/25\n",
      "1875/1875 [==============================] - 6s 3ms/step - loss: 0.3813 - accuracy: 0.8650 - val_loss: 0.3232 - val_accuracy: 0.8820\n",
      "Epoch 2/25\n",
      "1875/1875 [==============================] - 6s 3ms/step - loss: 0.2588 - accuracy: 0.9051 - val_loss: 0.2601 - val_accuracy: 0.9020\n",
      "Epoch 3/25\n",
      "1875/1875 [==============================] - 6s 3ms/step - loss: 0.2140 - accuracy: 0.9214 - val_loss: 0.2519 - val_accuracy: 0.9116\n",
      "Epoch 4/25\n",
      "1875/1875 [==============================] - 6s 3ms/step - loss: 0.1830 - accuracy: 0.9316 - val_loss: 0.2546 - val_accuracy: 0.9074\n",
      "Epoch 5/25\n",
      "1875/1875 [==============================] - 6s 3ms/step - loss: 0.1545 - accuracy: 0.9423 - val_loss: 0.2639 - val_accuracy: 0.9101\n",
      "Epoch 6/25\n",
      "1875/1875 [==============================] - 6s 3ms/step - loss: 0.1323 - accuracy: 0.9510 - val_loss: 0.2811 - val_accuracy: 0.9054\n",
      "Epoch 7/25\n",
      "1875/1875 [==============================] - 6s 3ms/step - loss: 0.1109 - accuracy: 0.9592 - val_loss: 0.2709 - val_accuracy: 0.9169\n",
      "Epoch 8/25\n",
      "1875/1875 [==============================] - 6s 3ms/step - loss: 0.0936 - accuracy: 0.9659 - val_loss: 0.2917 - val_accuracy: 0.9172\n",
      "Epoch 9/25\n",
      "1875/1875 [==============================] - 6s 3ms/step - loss: 0.0812 - accuracy: 0.9707 - val_loss: 0.2883 - val_accuracy: 0.9185\n",
      "Epoch 10/25\n",
      "1875/1875 [==============================] - 6s 3ms/step - loss: 0.0674 - accuracy: 0.9760 - val_loss: 0.3296 - val_accuracy: 0.9170\n",
      "Epoch 11/25\n",
      "1875/1875 [==============================] - 6s 3ms/step - loss: 0.0581 - accuracy: 0.9789 - val_loss: 0.3408 - val_accuracy: 0.9179\n",
      "Epoch 12/25\n",
      "1875/1875 [==============================] - 6s 3ms/step - loss: 0.0498 - accuracy: 0.9825 - val_loss: 0.3808 - val_accuracy: 0.9093\n",
      "Epoch 13/25\n",
      "1875/1875 [==============================] - 6s 3ms/step - loss: 0.0437 - accuracy: 0.9842 - val_loss: 0.3729 - val_accuracy: 0.9134\n",
      "Epoch 14/25\n",
      "1875/1875 [==============================] - 6s 3ms/step - loss: 0.0367 - accuracy: 0.9869 - val_loss: 0.4171 - val_accuracy: 0.9164\n",
      "Epoch 15/25\n",
      "1875/1875 [==============================] - 6s 3ms/step - loss: 0.0321 - accuracy: 0.9886 - val_loss: 0.4675 - val_accuracy: 0.9135\n",
      "Epoch 16/25\n",
      "1875/1875 [==============================] - 6s 3ms/step - loss: 0.0296 - accuracy: 0.9898 - val_loss: 0.4748 - val_accuracy: 0.9105\n",
      "Epoch 17/25\n",
      "1875/1875 [==============================] - 6s 3ms/step - loss: 0.0264 - accuracy: 0.9905 - val_loss: 0.4639 - val_accuracy: 0.9143\n",
      "Epoch 18/25\n",
      "1875/1875 [==============================] - 6s 3ms/step - loss: 0.0233 - accuracy: 0.9921 - val_loss: 0.5111 - val_accuracy: 0.9126\n",
      "Epoch 19/25\n",
      "1875/1875 [==============================] - 6s 3ms/step - loss: 0.0232 - accuracy: 0.9922 - val_loss: 0.5098 - val_accuracy: 0.9131\n",
      "Epoch 20/25\n",
      "1875/1875 [==============================] - 6s 3ms/step - loss: 0.0208 - accuracy: 0.9928 - val_loss: 0.5501 - val_accuracy: 0.9130\n",
      "Epoch 21/25\n",
      "1875/1875 [==============================] - 6s 3ms/step - loss: 0.0177 - accuracy: 0.9942 - val_loss: 0.5229 - val_accuracy: 0.9131\n",
      "Epoch 22/25\n",
      "1875/1875 [==============================] - 6s 3ms/step - loss: 0.0197 - accuracy: 0.9931 - val_loss: 0.6224 - val_accuracy: 0.9095\n",
      "Epoch 23/25\n",
      "1875/1875 [==============================] - 6s 3ms/step - loss: 0.0170 - accuracy: 0.9945 - val_loss: 0.6420 - val_accuracy: 0.9110\n",
      "Epoch 24/25\n",
      "1875/1875 [==============================] - 6s 3ms/step - loss: 0.0146 - accuracy: 0.9948 - val_loss: 0.6067 - val_accuracy: 0.9084\n",
      "Epoch 25/25\n",
      "1875/1875 [==============================] - 6s 3ms/step - loss: 0.0149 - accuracy: 0.9950 - val_loss: 0.6126 - val_accuracy: 0.9149\n"
     ]
    }
   ],
   "source": [
    "history = model.fit(X_train, y_train, epochs=num_epochs, batch_size=batch_size, validation_data=(X_val, y_val))"
   ]
  },
  {
   "cell_type": "code",
   "execution_count": 15,
   "metadata": {
    "colab": {
     "base_uri": "https://localhost:8080/",
     "height": 545
    },
    "colab_type": "code",
    "executionInfo": {
     "elapsed": 2319,
     "status": "ok",
     "timestamp": 1588902672808,
     "user": {
      "displayName": "ravi gupta",
      "photoUrl": "https://lh3.googleusercontent.com/a-/AOh14GjqhlqhiH2lJAcukkpcTJo3UqiaDWIjWK76JIJ2MQ=s64",
      "userId": "06502008462097511592"
     },
     "user_tz": -330
    },
    "id": "VUTW04Eda_iO",
    "outputId": "b16483df-1371-4cce-879c-b47d55584d31"
   },
   "outputs": [
    {
     "data": {
      "image/png": "[encoded data removed]",
      "text/plain": [
       "<Figure size 432x288 with 1 Axes>"
      ]
     },
     "metadata": {
      "needs_background": "light",
      "tags": []
     },
     "output_type": "display_data"
    },
    {
     "data": {
      "image/png": "[encoded data removed]",
      "text/plain": [
       "<Figure size 432x288 with 1 Axes>"
      ]
     },
     "metadata": {
      "needs_background": "light",
      "tags": []
     },
     "output_type": "display_data"
    }
   ],
   "source": [
    "import matplotlib.pyplot as plt\n",
    "acc = history.history['accuracy']\n",
    "val_acc = history.history['val_accuracy']\n",
    "loss = history.history['loss']\n",
    "val_loss = history.history['val_loss']\n",
    "\n",
    "epochs = range(len(acc))\n",
    "\n",
    "plt.plot(epochs, acc, 'r', label='Training accuracy')\n",
    "plt.plot(epochs, val_acc, 'b', label='Validation accuracy')\n",
    "plt.title('Training and validation accuracy')\n",
    "plt.legend()\n",
    "\n",
    "plt.figure()\n",
    "\n",
    "plt.plot(epochs, loss, 'r', label='Training Loss')\n",
    "plt.plot(epochs, val_loss, 'b', label='Validation Loss')\n",
    "plt.title('Training and validation loss')\n",
    "plt.legend()\n",
    "\n",
    "plt.show()"
   ]
  },
  {
   "cell_type": "code",
   "execution_count": 16,
   "metadata": {
    "colab": {
     "base_uri": "https://localhost:8080/",
     "height": 136
    },
    "colab_type": "code",
    "executionInfo": {
     "elapsed": 4214,
     "status": "ok",
     "timestamp": 1588902679713,
     "user": {
      "displayName": "ravi gupta",
      "photoUrl": "https://lh3.googleusercontent.com/a-/AOh14GjqhlqhiH2lJAcukkpcTJo3UqiaDWIjWK76JIJ2MQ=s64",
      "userId": "06502008462097511592"
     },
     "user_tz": -330
    },
    "id": "FV99FoxpzWd0",
    "outputId": "300de79e-ed60-406e-fdc0-b6caf8295d8f"
   },
   "outputs": [
    {
     "name": "stdout",
     "output_type": "stream",
     "text": [
      "Training data:\n",
      "  Training : loss 0.008 - acc 0.998\n",
      "Cross-validation data:\n",
      "  Cross-val: loss 0.613 - acc 0.915\n",
      "Test data:\n",
      "63/63 [==============================] - 0s 3ms/step - loss: 0.5507 - accuracy: 0.9195\n",
      "  Testing  : loss 0.551 - acc 0.919\n"
     ]
    }
   ],
   "source": [
    "    print('Training data:')\n",
    "    loss, acc = model.evaluate(X_train, y_train, verbose=0)\n",
    "    print(\"  Training : loss %.3f - acc %.3f\" % (loss, acc))\n",
    "    print('Cross-validation data:')\n",
    "    loss, acc = model.evaluate(X_val, y_val, verbose=0)\n",
    "    print(\"  Cross-val: loss %.3f - acc %.3f\" % (loss, acc))\n",
    "    print('Test data:')\n",
    "    loss, acc = model.evaluate(X_test, y_test, verbose=1)\n",
    "    print(\"  Testing  : loss %.3f - acc %.3f\" % (loss, acc))"
   ]
  },
  {
   "cell_type": "markdown",
   "metadata": {
    "colab_type": "text",
    "id": "nWKnS4PwVp-M"
   },
   "source": [
    "**There is considerable difference between the training and validation accuracy. Hence model is over-fitting the training data.**"
   ]
  },
  {
   "cell_type": "code",
   "execution_count": null,
   "metadata": {
    "colab": {},
    "colab_type": "code",
    "id": "PXaXYnPnV7ke"
   },
   "outputs": [],
   "source": [
    "y_pred = model.predict(X_test)"
   ]
  },
  {
   "cell_type": "code",
   "execution_count": null,
   "metadata": {
    "colab": {},
    "colab_type": "code",
    "id": "6orW2ti5Xq8v"
   },
   "outputs": [],
   "source": [
    "a = np.random.randint(0, len(X_test), 1)"
   ]
  },
  {
   "cell_type": "code",
   "execution_count": 19,
   "metadata": {
    "colab": {
     "base_uri": "https://localhost:8080/",
     "height": 68
    },
    "colab_type": "code",
    "executionInfo": {
     "elapsed": 1219,
     "status": "ok",
     "timestamp": 1588902687504,
     "user": {
      "displayName": "ravi gupta",
      "photoUrl": "https://lh3.googleusercontent.com/a-/AOh14GjqhlqhiH2lJAcukkpcTJo3UqiaDWIjWK76JIJ2MQ=s64",
      "userId": "06502008462097511592"
     },
     "user_tz": -330
    },
    "id": "X3j0JPOP746I",
    "outputId": "1a0b2b9b-43a6-4c50-8475-36d815fb9bbb"
   },
   "outputs": [
    {
     "data": {
      "text/plain": [
       "array([[9.9983120e-01, 2.9984424e-17, 6.3229748e-11, 1.3033248e-11,\n",
       "        2.5269090e-12, 1.3691843e-16, 1.6877838e-04, 9.0929417e-17,\n",
       "        1.5294645e-16, 2.0731741e-12]], dtype=float32)"
      ]
     },
     "execution_count": 19,
     "metadata": {
      "tags": []
     },
     "output_type": "execute_result"
    }
   ],
   "source": [
    "y_pred[a]"
   ]
  },
  {
   "cell_type": "code",
   "execution_count": 20,
   "metadata": {
    "colab": {
     "base_uri": "https://localhost:8080/",
     "height": 34
    },
    "colab_type": "code",
    "executionInfo": {
     "elapsed": 1542,
     "status": "ok",
     "timestamp": 1588902690018,
     "user": {
      "displayName": "ravi gupta",
      "photoUrl": "https://lh3.googleusercontent.com/a-/AOh14GjqhlqhiH2lJAcukkpcTJo3UqiaDWIjWK76JIJ2MQ=s64",
      "userId": "06502008462097511592"
     },
     "user_tz": -330
    },
    "id": "_t0BS82n8BSJ",
    "outputId": "10236aac-050a-4324-e134-b635177f5f67"
   },
   "outputs": [
    {
     "data": {
      "text/plain": [
       "array([0], dtype=uint8)"
      ]
     },
     "execution_count": 20,
     "metadata": {
      "tags": []
     },
     "output_type": "execute_result"
    }
   ],
   "source": [
    "y_test[a]"
   ]
  },
  {
   "cell_type": "markdown",
   "metadata": {
    "colab_type": "text",
    "id": "0jvx_2qVA3f1"
   },
   "source": [
    "### **Attempting Dropout to improve validation and test accuracy**"
   ]
  },
  {
   "cell_type": "code",
   "execution_count": 21,
   "metadata": {
    "colab": {
     "base_uri": "https://localhost:8080/",
     "height": 34
    },
    "colab_type": "code",
    "executionInfo": {
     "elapsed": 1398,
     "status": "ok",
     "timestamp": 1588902705693,
     "user": {
      "displayName": "ravi gupta",
      "photoUrl": "https://lh3.googleusercontent.com/a-/AOh14GjqhlqhiH2lJAcukkpcTJo3UqiaDWIjWK76JIJ2MQ=s64",
      "userId": "06502008462097511592"
     },
     "user_tz": -330
    },
    "id": "Aenz4uNxNLf7",
    "outputId": "b2af0384-c064-4c5d-d400-dff65476e7b9"
   },
   "outputs": [
    {
     "name": "stderr",
     "output_type": "stream",
     "text": [
      "Using TensorFlow backend.\n"
     ]
    }
   ],
   "source": [
    "from keras.layers import BatchNormalization"
   ]
  },
  {
   "cell_type": "code",
   "execution_count": null,
   "metadata": {
    "colab": {},
    "colab_type": "code",
    "id": "dszeKmIGA62_"
   },
   "outputs": [],
   "source": [
    "model = tf.keras.models.Sequential([\n",
    "  tf.keras.layers.Conv2D(64, (3,3), activation='relu', input_shape=(28, 28, 1)),\n",
    "  tf.keras.layers.BatchNormalization(),\n",
    "  tf.keras.layers.Conv2D(64, (3,3), activation='relu'),\n",
    "  tf.keras.layers.BatchNormalization(),\n",
    "  tf.keras.layers.MaxPooling2D(2, 2),\n",
    "  tf.keras.layers.Dropout(0.2),\n",
    "  tf.keras.layers.Conv2D(128, (3,3), activation='relu'),\n",
    "  tf.keras.layers.BatchNormalization(),\n",
    "  tf.keras.layers.Conv2D(128, (3,3), activation='relu'),\n",
    "  tf.keras.layers.BatchNormalization(),\n",
    "  tf.keras.layers.MaxPooling2D(2, 2),\n",
    "  tf.keras.layers.Dropout(0.2),\n",
    "  tf.keras.layers.Flatten(),\n",
    "  tf.keras.layers.Dense(1024, activation='relu'),\n",
    "  tf.keras.layers.Dropout(0.2),\n",
    "  tf.keras.layers.Dense(512, activation='relu'),\n",
    "  tf.keras.layers.Dropout(0.2),\n",
    "  tf.keras.layers.Dense(10, activation='softmax')\n",
    "])"
   ]
  },
  {
   "cell_type": "code",
   "execution_count": 25,
   "metadata": {
    "colab": {
     "base_uri": "https://localhost:8080/",
     "height": 765
    },
    "colab_type": "code",
    "executionInfo": {
     "elapsed": 1385,
     "status": "ok",
     "timestamp": 1588902788108,
     "user": {
      "displayName": "ravi gupta",
      "photoUrl": "https://lh3.googleusercontent.com/a-/AOh14GjqhlqhiH2lJAcukkpcTJo3UqiaDWIjWK76JIJ2MQ=s64",
      "userId": "06502008462097511592"
     },
     "user_tz": -330
    },
    "id": "GkRtwermBlHN",
    "outputId": "e8ce22a9-936b-4c7b-e0b8-6c133f95d4c0"
   },
   "outputs": [
    {
     "name": "stdout",
     "output_type": "stream",
     "text": [
      "Model: \"sequential_1\"\n",
      "_________________________________________________________________\n",
      "Layer (type)                 Output Shape              Param #   \n",
      "=================================================================\n",
      "conv2d_1 (Conv2D)            (None, 26, 26, 64)        640       \n",
      "_________________________________________________________________\n",
      "batch_normalization (BatchNo (None, 26, 26, 64)        256       \n",
      "_________________________________________________________________\n",
      "conv2d_2 (Conv2D)            (None, 24, 24, 64)        36928     \n",
      "_________________________________________________________________\n",
      "batch_normalization_1 (Batch (None, 24, 24, 64)        256       \n",
      "_________________________________________________________________\n",
      "max_pooling2d_1 (MaxPooling2 (None, 12, 12, 64)        0         \n",
      "_________________________________________________________________\n",
      "dropout (Dropout)            (None, 12, 12, 64)        0         \n",
      "_________________________________________________________________\n",
      "conv2d_3 (Conv2D)            (None, 10, 10, 128)       73856     \n",
      "_________________________________________________________________\n",
      "batch_normalization_2 (Batch (None, 10, 10, 128)       512       \n",
      "_________________________________________________________________\n",
      "conv2d_4 (Conv2D)            (None, 8, 8, 128)         147584    \n",
      "_________________________________________________________________\n",
      "batch_normalization_3 (Batch (None, 8, 8, 128)         512       \n",
      "_________________________________________________________________\n",
      "max_pooling2d_2 (MaxPooling2 (None, 4, 4, 128)         0         \n",
      "_________________________________________________________________\n",
      "dropout_1 (Dropout)          (None, 4, 4, 128)         0         \n",
      "_________________________________________________________________\n",
      "flatten_1 (Flatten)          (None, 2048)              0         \n",
      "_________________________________________________________________\n",
      "dense_2 (Dense)              (None, 1024)              2098176   \n",
      "_________________________________________________________________\n",
      "dropout_2 (Dropout)          (None, 1024)              0         \n",
      "_________________________________________________________________\n",
      "dense_3 (Dense)              (None, 512)               524800    \n",
      "_________________________________________________________________\n",
      "dropout_3 (Dropout)          (None, 512)               0         \n",
      "_________________________________________________________________\n",
      "dense_4 (Dense)              (None, 10)                5130      \n",
      "=================================================================\n",
      "Total params: 2,888,650\n",
      "Trainable params: 2,887,882\n",
      "Non-trainable params: 768\n",
      "_________________________________________________________________\n"
     ]
    }
   ],
   "source": [
    "# adam = tf.keras.optimizers.Adam(learning_rate=0.001)\n",
    "model.compile(optimizer='adam', loss='sparse_categorical_crossentropy', metrics=['accuracy'])\n",
    "model.summary()"
   ]
  },
  {
   "cell_type": "code",
   "execution_count": 26,
   "metadata": {
    "colab": {
     "base_uri": "https://localhost:8080/",
     "height": 867
    },
    "colab_type": "code",
    "executionInfo": {
     "elapsed": 266382,
     "status": "ok",
     "timestamp": 1588903061463,
     "user": {
      "displayName": "ravi gupta",
      "photoUrl": "https://lh3.googleusercontent.com/a-/AOh14GjqhlqhiH2lJAcukkpcTJo3UqiaDWIjWK76JIJ2MQ=s64",
      "userId": "06502008462097511592"
     },
     "user_tz": -330
    },
    "id": "qLzo4VQCBmN1",
    "outputId": "c021b9e3-8739-4535-e26b-16876829e1c6"
   },
   "outputs": [
    {
     "name": "stdout",
     "output_type": "stream",
     "text": [
      "Epoch 1/25\n",
      "1875/1875 [==============================] - 11s 6ms/step - loss: 0.4590 - accuracy: 0.8390 - val_loss: 0.3711 - val_accuracy: 0.8674\n",
      "Epoch 2/25\n",
      "1875/1875 [==============================] - 11s 6ms/step - loss: 0.3169 - accuracy: 0.8868 - val_loss: 0.3032 - val_accuracy: 0.8930\n",
      "Epoch 3/25\n",
      "1875/1875 [==============================] - 10s 6ms/step - loss: 0.2774 - accuracy: 0.9010 - val_loss: 0.2539 - val_accuracy: 0.9124\n",
      "Epoch 4/25\n",
      "1875/1875 [==============================] - 10s 6ms/step - loss: 0.2513 - accuracy: 0.9111 - val_loss: 0.2928 - val_accuracy: 0.8941\n",
      "Epoch 5/25\n",
      "1875/1875 [==============================] - 10s 6ms/step - loss: 0.2273 - accuracy: 0.9191 - val_loss: 0.2476 - val_accuracy: 0.9162\n",
      "Epoch 6/25\n",
      "1875/1875 [==============================] - 11s 6ms/step - loss: 0.2082 - accuracy: 0.9252 - val_loss: 0.2301 - val_accuracy: 0.9185\n",
      "Epoch 7/25\n",
      "1875/1875 [==============================] - 11s 6ms/step - loss: 0.1943 - accuracy: 0.9305 - val_loss: 0.2637 - val_accuracy: 0.9109\n",
      "Epoch 8/25\n",
      "1875/1875 [==============================] - 11s 6ms/step - loss: 0.1809 - accuracy: 0.9344 - val_loss: 0.2385 - val_accuracy: 0.9201\n",
      "Epoch 9/25\n",
      "1875/1875 [==============================] - 10s 6ms/step - loss: 0.1634 - accuracy: 0.9408 - val_loss: 0.2437 - val_accuracy: 0.9273\n",
      "Epoch 10/25\n",
      "1875/1875 [==============================] - 11s 6ms/step - loss: 0.1540 - accuracy: 0.9455 - val_loss: 0.2516 - val_accuracy: 0.9205\n",
      "Epoch 11/25\n",
      "1875/1875 [==============================] - 11s 6ms/step - loss: 0.1429 - accuracy: 0.9484 - val_loss: 0.2328 - val_accuracy: 0.9266\n",
      "Epoch 12/25\n",
      "1875/1875 [==============================] - 11s 6ms/step - loss: 0.1310 - accuracy: 0.9538 - val_loss: 0.2407 - val_accuracy: 0.9269\n",
      "Epoch 13/25\n",
      "1875/1875 [==============================] - 10s 6ms/step - loss: 0.1244 - accuracy: 0.9555 - val_loss: 0.2546 - val_accuracy: 0.9235\n",
      "Epoch 14/25\n",
      "1875/1875 [==============================] - 10s 6ms/step - loss: 0.1167 - accuracy: 0.9571 - val_loss: 0.2838 - val_accuracy: 0.9245\n",
      "Epoch 15/25\n",
      "1875/1875 [==============================] - 11s 6ms/step - loss: 0.1102 - accuracy: 0.9611 - val_loss: 0.2345 - val_accuracy: 0.9279\n",
      "Epoch 16/25\n",
      "1875/1875 [==============================] - 11s 6ms/step - loss: 0.1025 - accuracy: 0.9639 - val_loss: 0.2634 - val_accuracy: 0.9280\n",
      "Epoch 17/25\n",
      "1875/1875 [==============================] - 11s 6ms/step - loss: 0.0975 - accuracy: 0.9645 - val_loss: 0.2660 - val_accuracy: 0.9316\n",
      "Epoch 18/25\n",
      "1875/1875 [==============================] - 11s 6ms/step - loss: 0.0937 - accuracy: 0.9674 - val_loss: 0.2608 - val_accuracy: 0.9306\n",
      "Epoch 19/25\n",
      "1875/1875 [==============================] - 11s 6ms/step - loss: 0.0831 - accuracy: 0.9701 - val_loss: 0.2634 - val_accuracy: 0.9335\n",
      "Epoch 20/25\n",
      "1875/1875 [==============================] - 11s 6ms/step - loss: 0.0817 - accuracy: 0.9716 - val_loss: 0.2934 - val_accuracy: 0.9280\n",
      "Epoch 21/25\n",
      "1875/1875 [==============================] - 11s 6ms/step - loss: 0.0772 - accuracy: 0.9733 - val_loss: 0.2926 - val_accuracy: 0.9287\n",
      "Epoch 22/25\n",
      "1875/1875 [==============================] - 11s 6ms/step - loss: 0.0770 - accuracy: 0.9730 - val_loss: 0.3117 - val_accuracy: 0.9275\n",
      "Epoch 23/25\n",
      "1875/1875 [==============================] - 11s 6ms/step - loss: 0.0758 - accuracy: 0.9743 - val_loss: 0.3391 - val_accuracy: 0.9315\n",
      "Epoch 24/25\n",
      "1875/1875 [==============================] - 11s 6ms/step - loss: 0.0669 - accuracy: 0.9768 - val_loss: 0.3040 - val_accuracy: 0.9243\n",
      "Epoch 25/25\n",
      "1875/1875 [==============================] - 11s 6ms/step - loss: 0.0674 - accuracy: 0.9773 - val_loss: 0.2879 - val_accuracy: 0.9315\n"
     ]
    }
   ],
   "source": [
    "history = model.fit(X_train, y_train, epochs=num_epochs, batch_size=batch_size, validation_data=(X_val, y_val))"
   ]
  },
  {
   "cell_type": "code",
   "execution_count": 27,
   "metadata": {
    "colab": {
     "base_uri": "https://localhost:8080/",
     "height": 545
    },
    "colab_type": "code",
    "executionInfo": {
     "elapsed": 1674,
     "status": "ok",
     "timestamp": 1588903718801,
     "user": {
      "displayName": "ravi gupta",
      "photoUrl": "https://lh3.googleusercontent.com/a-/AOh14GjqhlqhiH2lJAcukkpcTJo3UqiaDWIjWK76JIJ2MQ=s64",
      "userId": "06502008462097511592"
     },
     "user_tz": -330
    },
    "id": "SV6qoD6rCp7G",
    "outputId": "0635d89a-9598-4672-9efe-21b9a5a8b7de"
   },
   "outputs": [
    {
     "data": {
      "image/png": "[encoded data removed]",
      "text/plain": [
       "<Figure size 432x288 with 1 Axes>"
      ]
     },
     "metadata": {
      "needs_background": "light",
      "tags": []
     },
     "output_type": "display_data"
    },
    {
     "data": {
      "image/png": "[encoded data removed]",
      "text/plain": [
       "<Figure size 432x288 with 1 Axes>"
      ]
     },
     "metadata": {
      "needs_background": "light",
      "tags": []
     },
     "output_type": "display_data"
    }
   ],
   "source": [
    "import matplotlib.pyplot as plt\n",
    "acc = history.history['accuracy']\n",
    "val_acc = history.history['val_accuracy']\n",
    "loss = history.history['loss']\n",
    "val_loss = history.history['val_loss']\n",
    "\n",
    "epochs = range(len(acc))\n",
    "\n",
    "plt.plot(epochs, acc, 'r', label='Training accuracy')\n",
    "plt.plot(epochs, val_acc, 'b', label='Validation accuracy')\n",
    "plt.title('Training and validation accuracy')\n",
    "plt.legend()\n",
    "\n",
    "plt.figure()\n",
    "\n",
    "plt.plot(epochs, loss, 'r', label='Training Loss')\n",
    "plt.plot(epochs, val_loss, 'b', label='Validation Loss')\n",
    "plt.title('Training and validation loss')\n",
    "plt.legend()\n",
    "\n",
    "plt.show()"
   ]
  },
  {
   "cell_type": "code",
   "execution_count": 28,
   "metadata": {
    "colab": {
     "base_uri": "https://localhost:8080/",
     "height": 136
    },
    "colab_type": "code",
    "executionInfo": {
     "elapsed": 4977,
     "status": "ok",
     "timestamp": 1588903745648,
     "user": {
      "displayName": "ravi gupta",
      "photoUrl": "https://lh3.googleusercontent.com/a-/AOh14GjqhlqhiH2lJAcukkpcTJo3UqiaDWIjWK76JIJ2MQ=s64",
      "userId": "06502008462097511592"
     },
     "user_tz": -330
    },
    "id": "jVU4F5f4CvpU",
    "outputId": "592d66f4-f6b9-40d6-ab81-850988155221"
   },
   "outputs": [
    {
     "name": "stdout",
     "output_type": "stream",
     "text": [
      "Training data:\n",
      "  Training : loss 0.026 - acc 0.992\n",
      "Cross-validation data:\n",
      "  Cross-val: loss 0.288 - acc 0.932\n",
      "Test data:\n",
      "63/63 [==============================] - 0s 3ms/step - loss: 0.2377 - accuracy: 0.9410\n",
      "  Testing  : loss 0.238 - acc 0.941\n"
     ]
    }
   ],
   "source": [
    "    print('Training data:')\n",
    "    loss, acc = model.evaluate(X_train, y_train, verbose=0)\n",
    "    print(\"  Training : loss %.3f - acc %.3f\" % (loss, acc))\n",
    "    print('Cross-validation data:')\n",
    "    loss, acc = model.evaluate(X_val, y_val, verbose=0)\n",
    "    print(\"  Cross-val: loss %.3f - acc %.3f\" % (loss, acc))\n",
    "    print('Test data:')\n",
    "    loss, acc = model.evaluate(X_test, y_test, verbose=1)\n",
    "    print(\"  Testing  : loss %.3f - acc %.3f\" % (loss, acc))"
   ]
  },
  {
   "cell_type": "markdown",
   "metadata": {
    "colab": {},
    "colab_type": "code",
    "id": "iPVYbNbfEXoM"
   },
   "source": [
    "#### So introducing dropout has resulted in better validation accuracy\n",
    "Model | Training Accuracy | Validation Accuracy | Test accuracy \n",
    "---|---|:---|:---:\n",
    "Base | 0.998 | 0.915 | 0.919\n",
    "With Droput | 0.992 | 0.932 | 0.941"
   ]
  },
  {
   "cell_type": "markdown",
   "metadata": {
    "colab_type": "text",
    "id": "PzlgjCEjEYuB"
   },
   "source": [
    "### **Analysing the influence of learning rate on results**"
   ]
  },
  {
   "cell_type": "code",
   "execution_count": null,
   "metadata": {
    "colab": {},
    "colab_type": "code",
    "id": "3V1H_NanMIqr"
   },
   "outputs": [],
   "source": [
    "from __future__ import print_function\n",
    "import numpy as np\n",
    "import matplotlib.pyplot as plt\n",
    "import itertools\n",
    "import keras\n",
    "from keras.datasets import mnist\n",
    "from keras.models import Sequential\n",
    "from keras.layers import Conv2D, MaxPooling2D, Dense, Flatten, BatchNormalization, Dropout\n",
    "from keras import backend as K\n",
    "np.random.seed(100)\n",
    "# Disable warnings\n",
    "import tensorflow as tf\n",
    "import logging\n",
    "tf.get_logger().setLevel(logging.ERROR)"
   ]
  },
  {
   "cell_type": "code",
   "execution_count": null,
   "metadata": {
    "colab": {},
    "colab_type": "code",
    "id": "4oKpL_iJIUqd"
   },
   "outputs": [],
   "source": [
    "\n",
    "def model_2(learning_rate):\n",
    "    model = Sequential()\n",
    "    model.add(Conv2D(64, (3,3), activation='relu', input_shape=(28, 28, 1)))\n",
    "    model.add(BatchNormalization())\n",
    "    model.add(Conv2D(64, (3,3), activation='relu'))\n",
    "    model.add(BatchNormalization())\n",
    "    model.add(MaxPooling2D(2, 2))\n",
    "    model.add(Dropout(0.2))\n",
    "    model.add(Conv2D(128, (3,3), activation='relu'))\n",
    "    model.add(BatchNormalization())\n",
    "    model.add(Conv2D(128, (3,3), activation='relu'))\n",
    "    model.add(BatchNormalization())\n",
    "    model.add(MaxPooling2D(2, 2))\n",
    "    model.add(Dropout(0.2))\n",
    "    model.add(Flatten())\n",
    "    model.add(Dense(1024, activation='relu'))\n",
    "    model.add(Dropout(0.2))\n",
    "    model.add(Dense(512, activation='relu'))\n",
    "    model.add(Dropout(0.2))\n",
    "    model.add(Dense(10, activation='softmax'))\n",
    "    model.summary()\n",
    "\n",
    "    # Compile model\n",
    "    adam = keras.optimizers.adam(lr=learning_rate, decay=1e-6)\n",
    "    model.compile(optimizer=adam, loss='sparse_categorical_crossentropy', metrics=['accuracy'])\n",
    "    \n",
    "    return model\n"
   ]
  },
  {
   "cell_type": "code",
   "execution_count": null,
   "metadata": {
    "colab": {},
    "colab_type": "code",
    "id": "x8XNYiEDLdWh"
   },
   "outputs": [],
   "source": [
    "def fit_and_evaluate_model(model, learning_rate, batch_size, num_epochs):\n",
    "    # Fit model\n",
    "    history = model.fit(X_train, y_train, epochs=num_epochs, batch_size=batch_size, validation_data=(X_val, y_val))\n",
    "    \n",
    "    # Evaluate model\n",
    "    score = model.evaluate(X_test, y_test, verbose=0)\n",
    "    #print('Test Loss:', score[0])\n",
    "    print('Test Accuracy:', score[1])\n",
    "    \n",
    "    # Plot accuracy\n",
    "    plt.plot(history.history['accuracy'])\n",
    "    plt.plot(history.history['val_accuracy'])\n",
    "    plt.title(\"LR:{}, BS:{}\".format(learning_rate, batch_size), pad=-20)\n",
    "    plt.xlabel('Epochs')\n",
    "    plt.ylabel('Accuracy')\n",
    "    plt.legend(['train', 'val'], loc='lower right')"
   ]
  },
  {
   "cell_type": "code",
   "execution_count": 65,
   "metadata": {
    "colab": {
     "base_uri": "https://localhost:8080/",
     "height": 1000
    },
    "colab_type": "code",
    "executionInfo": {
     "elapsed": 2999904,
     "status": "ok",
     "timestamp": 1588915320440,
     "user": {
      "displayName": "ravi gupta",
      "photoUrl": "https://lh3.googleusercontent.com/a-/AOh14GjqhlqhiH2lJAcukkpcTJo3UqiaDWIjWK76JIJ2MQ=s64",
      "userId": "06502008462097511592"
     },
     "user_tz": -330
    },
    "id": "w416UogSeuhR",
    "outputId": "b564b75a-28c3-4750-990b-03724a7fa88d"
   },
   "outputs": [
    {
     "name": "stdout",
     "output_type": "stream",
     "text": [
      "\n",
      "Learning_rate: 0.001, Batch_size: 32\n",
      "Model: \"sequential_26\"\n",
      "_________________________________________________________________\n",
      "Layer (type)                 Output Shape              Param #   \n",
      "=================================================================\n",
      "conv2d_31 (Conv2D)           (None, 26, 26, 64)        640       \n",
      "_________________________________________________________________\n",
      "batch_normalization_3 (Batch (None, 26, 26, 64)        256       \n",
      "_________________________________________________________________\n",
      "conv2d_32 (Conv2D)           (None, 24, 24, 64)        36928     \n",
      "_________________________________________________________________\n",
      "batch_normalization_4 (Batch (None, 24, 24, 64)        256       \n",
      "_________________________________________________________________\n",
      "max_pooling2d_26 (MaxPooling (None, 12, 12, 64)        0         \n",
      "_________________________________________________________________\n",
      "dropout_1 (Dropout)          (None, 12, 12, 64)        0         \n",
      "_________________________________________________________________\n",
      "conv2d_33 (Conv2D)           (None, 10, 10, 128)       73856     \n",
      "_________________________________________________________________\n",
      "batch_normalization_5 (Batch (None, 10, 10, 128)       512       \n",
      "_________________________________________________________________\n",
      "conv2d_34 (Conv2D)           (None, 8, 8, 128)         147584    \n",
      "_________________________________________________________________\n",
      "batch_normalization_6 (Batch (None, 8, 8, 128)         512       \n",
      "_________________________________________________________________\n",
      "max_pooling2d_27 (MaxPooling (None, 4, 4, 128)         0         \n",
      "_________________________________________________________________\n",
      "dropout_2 (Dropout)          (None, 4, 4, 128)         0         \n",
      "_________________________________________________________________\n",
      "flatten_25 (Flatten)         (None, 2048)              0         \n",
      "_________________________________________________________________\n",
      "dense_49 (Dense)             (None, 1024)              2098176   \n",
      "_________________________________________________________________\n",
      "dropout_3 (Dropout)          (None, 1024)              0         \n",
      "_________________________________________________________________\n",
      "dense_50 (Dense)             (None, 512)               524800    \n",
      "_________________________________________________________________\n",
      "dropout_4 (Dropout)          (None, 512)               0         \n",
      "_________________________________________________________________\n",
      "dense_51 (Dense)             (None, 10)                5130      \n",
      "=================================================================\n",
      "Total params: 2,888,650\n",
      "Trainable params: 2,887,882\n",
      "Non-trainable params: 768\n",
      "_________________________________________________________________\n",
      "Train on 60000 samples, validate on 8000 samples\n",
      "Epoch 1/25\n",
      "60000/60000 [==============================] - 25s 425us/step - loss: 0.4595 - accuracy: 0.8382 - val_loss: 0.3401 - val_accuracy: 0.8760\n",
      "Epoch 2/25\n",
      "60000/60000 [==============================] - 25s 412us/step - loss: 0.3131 - accuracy: 0.8892 - val_loss: 0.4548 - val_accuracy: 0.8482\n",
      "Epoch 3/25\n",
      "60000/60000 [==============================] - 25s 413us/step - loss: 0.2731 - accuracy: 0.9023 - val_loss: 0.3023 - val_accuracy: 0.8991\n",
      "Epoch 4/25\n",
      "60000/60000 [==============================] - 24s 406us/step - loss: 0.2502 - accuracy: 0.9130 - val_loss: 0.2791 - val_accuracy: 0.9046\n",
      "Epoch 5/25\n",
      "60000/60000 [==============================] - 24s 406us/step - loss: 0.2258 - accuracy: 0.9201 - val_loss: 0.2386 - val_accuracy: 0.9209\n",
      "Epoch 6/25\n",
      "60000/60000 [==============================] - 24s 403us/step - loss: 0.2093 - accuracy: 0.9251 - val_loss: 0.2307 - val_accuracy: 0.9195\n",
      "Epoch 7/25\n",
      "60000/60000 [==============================] - 25s 409us/step - loss: 0.1914 - accuracy: 0.9317 - val_loss: 0.2320 - val_accuracy: 0.9201\n",
      "Epoch 8/25\n",
      "60000/60000 [==============================] - 25s 410us/step - loss: 0.1802 - accuracy: 0.9355 - val_loss: 0.2267 - val_accuracy: 0.9239\n",
      "Epoch 9/25\n",
      "60000/60000 [==============================] - 24s 407us/step - loss: 0.1661 - accuracy: 0.9399 - val_loss: 0.2543 - val_accuracy: 0.9208\n",
      "Epoch 10/25\n",
      "60000/60000 [==============================] - 25s 410us/step - loss: 0.1541 - accuracy: 0.9457 - val_loss: 0.2401 - val_accuracy: 0.9235\n",
      "Epoch 11/25\n",
      "60000/60000 [==============================] - 25s 409us/step - loss: 0.1394 - accuracy: 0.9506 - val_loss: 0.2364 - val_accuracy: 0.9250\n",
      "Epoch 12/25\n",
      "60000/60000 [==============================] - 25s 410us/step - loss: 0.1316 - accuracy: 0.9525 - val_loss: 0.2356 - val_accuracy: 0.9250\n",
      "Epoch 13/25\n",
      "60000/60000 [==============================] - 24s 407us/step - loss: 0.1269 - accuracy: 0.9541 - val_loss: 0.2532 - val_accuracy: 0.9195\n",
      "Epoch 14/25\n",
      "60000/60000 [==============================] - 24s 408us/step - loss: 0.1119 - accuracy: 0.9585 - val_loss: 0.2510 - val_accuracy: 0.9268\n",
      "Epoch 15/25\n",
      "60000/60000 [==============================] - 24s 408us/step - loss: 0.1062 - accuracy: 0.9619 - val_loss: 0.2599 - val_accuracy: 0.9275\n",
      "Epoch 16/25\n",
      "60000/60000 [==============================] - 25s 412us/step - loss: 0.0986 - accuracy: 0.9651 - val_loss: 0.2417 - val_accuracy: 0.9285\n",
      "Epoch 17/25\n",
      "60000/60000 [==============================] - 24s 405us/step - loss: 0.0989 - accuracy: 0.9655 - val_loss: 0.2557 - val_accuracy: 0.9287\n",
      "Epoch 18/25\n",
      "60000/60000 [==============================] - 24s 403us/step - loss: 0.0880 - accuracy: 0.9682 - val_loss: 0.2542 - val_accuracy: 0.9305\n",
      "Epoch 19/25\n",
      "60000/60000 [==============================] - 24s 401us/step - loss: 0.0840 - accuracy: 0.9706 - val_loss: 0.2820 - val_accuracy: 0.9311\n",
      "Epoch 20/25\n",
      "60000/60000 [==============================] - 24s 403us/step - loss: 0.0802 - accuracy: 0.9718 - val_loss: 0.2823 - val_accuracy: 0.9284\n",
      "Epoch 21/25\n",
      "60000/60000 [==============================] - 24s 407us/step - loss: 0.0768 - accuracy: 0.9725 - val_loss: 0.2488 - val_accuracy: 0.9340\n",
      "Epoch 22/25\n",
      "60000/60000 [==============================] - 25s 409us/step - loss: 0.0710 - accuracy: 0.9754 - val_loss: 0.3174 - val_accuracy: 0.9260\n",
      "Epoch 23/25\n",
      "60000/60000 [==============================] - 24s 408us/step - loss: 0.0720 - accuracy: 0.9752 - val_loss: 0.3304 - val_accuracy: 0.9275\n",
      "Epoch 24/25\n",
      "60000/60000 [==============================] - 24s 405us/step - loss: 0.0679 - accuracy: 0.9758 - val_loss: 0.3135 - val_accuracy: 0.9329\n",
      "Epoch 25/25\n",
      "60000/60000 [==============================] - 24s 407us/step - loss: 0.0631 - accuracy: 0.9787 - val_loss: 0.3319 - val_accuracy: 0.9268\n",
      "Test Accuracy: 0.9284999966621399\n",
      "\n",
      "Learning_rate: 0.001, Batch_size: 64\n",
      "Model: \"sequential_27\"\n",
      "_________________________________________________________________\n",
      "Layer (type)                 Output Shape              Param #   \n",
      "=================================================================\n",
      "conv2d_35 (Conv2D)           (None, 26, 26, 64)        640       \n",
      "_________________________________________________________________\n",
      "batch_normalization_7 (Batch (None, 26, 26, 64)        256       \n",
      "_________________________________________________________________\n",
      "conv2d_36 (Conv2D)           (None, 24, 24, 64)        36928     \n",
      "_________________________________________________________________\n",
      "batch_normalization_8 (Batch (None, 24, 24, 64)        256       \n",
      "_________________________________________________________________\n",
      "max_pooling2d_28 (MaxPooling (None, 12, 12, 64)        0         \n",
      "_________________________________________________________________\n",
      "dropout_5 (Dropout)          (None, 12, 12, 64)        0         \n",
      "_________________________________________________________________\n",
      "conv2d_37 (Conv2D)           (None, 10, 10, 128)       73856     \n",
      "_________________________________________________________________\n",
      "batch_normalization_9 (Batch (None, 10, 10, 128)       512       \n",
      "_________________________________________________________________\n",
      "conv2d_38 (Conv2D)           (None, 8, 8, 128)         147584    \n",
      "_________________________________________________________________\n",
      "batch_normalization_10 (Batc (None, 8, 8, 128)         512       \n",
      "_________________________________________________________________\n",
      "max_pooling2d_29 (MaxPooling (None, 4, 4, 128)         0         \n",
      "_________________________________________________________________\n",
      "dropout_6 (Dropout)          (None, 4, 4, 128)         0         \n",
      "_________________________________________________________________\n",
      "flatten_26 (Flatten)         (None, 2048)              0         \n",
      "_________________________________________________________________\n",
      "dense_52 (Dense)             (None, 1024)              2098176   \n",
      "_________________________________________________________________\n",
      "dropout_7 (Dropout)          (None, 1024)              0         \n",
      "_________________________________________________________________\n",
      "dense_53 (Dense)             (None, 512)               524800    \n",
      "_________________________________________________________________\n",
      "dropout_8 (Dropout)          (None, 512)               0         \n",
      "_________________________________________________________________\n",
      "dense_54 (Dense)             (None, 10)                5130      \n",
      "=================================================================\n",
      "Total params: 2,888,650\n",
      "Trainable params: 2,887,882\n",
      "Non-trainable params: 768\n",
      "_________________________________________________________________\n",
      "Train on 60000 samples, validate on 8000 samples\n",
      "Epoch 1/25\n",
      "60000/60000 [==============================] - 16s 265us/step - loss: 0.4697 - accuracy: 0.8346 - val_loss: 0.3263 - val_accuracy: 0.8856\n",
      "Epoch 2/25\n",
      "60000/60000 [==============================] - 15s 247us/step - loss: 0.2927 - accuracy: 0.8930 - val_loss: 0.2750 - val_accuracy: 0.9047\n",
      "Epoch 3/25\n",
      "60000/60000 [==============================] - 15s 247us/step - loss: 0.2555 - accuracy: 0.9077 - val_loss: 0.2544 - val_accuracy: 0.9069\n",
      "Epoch 4/25\n",
      "60000/60000 [==============================] - 15s 248us/step - loss: 0.2280 - accuracy: 0.9172 - val_loss: 0.2461 - val_accuracy: 0.9164\n",
      "Epoch 5/25\n",
      "60000/60000 [==============================] - 15s 245us/step - loss: 0.2105 - accuracy: 0.9233 - val_loss: 0.2431 - val_accuracy: 0.9149\n",
      "Epoch 6/25\n",
      "60000/60000 [==============================] - 15s 245us/step - loss: 0.1977 - accuracy: 0.9286 - val_loss: 0.4071 - val_accuracy: 0.8659\n",
      "Epoch 7/25\n",
      "60000/60000 [==============================] - 15s 247us/step - loss: 0.1818 - accuracy: 0.9343 - val_loss: 0.2707 - val_accuracy: 0.9115\n",
      "Epoch 8/25\n",
      "60000/60000 [==============================] - 15s 249us/step - loss: 0.1668 - accuracy: 0.9397 - val_loss: 0.2532 - val_accuracy: 0.9134\n",
      "Epoch 9/25\n",
      "60000/60000 [==============================] - 15s 247us/step - loss: 0.1564 - accuracy: 0.9441 - val_loss: 0.2458 - val_accuracy: 0.9186\n",
      "Epoch 10/25\n",
      "60000/60000 [==============================] - 15s 245us/step - loss: 0.1412 - accuracy: 0.9485 - val_loss: 0.2359 - val_accuracy: 0.9244\n",
      "Epoch 11/25\n",
      "60000/60000 [==============================] - 15s 243us/step - loss: 0.1339 - accuracy: 0.9513 - val_loss: 0.2363 - val_accuracy: 0.9265\n",
      "Epoch 12/25\n",
      "60000/60000 [==============================] - 15s 245us/step - loss: 0.1309 - accuracy: 0.9527 - val_loss: 0.2748 - val_accuracy: 0.9158\n",
      "Epoch 13/25\n",
      "60000/60000 [==============================] - 15s 247us/step - loss: 0.1175 - accuracy: 0.9583 - val_loss: 0.2722 - val_accuracy: 0.9243\n",
      "Epoch 14/25\n",
      "60000/60000 [==============================] - 15s 246us/step - loss: 0.1081 - accuracy: 0.9611 - val_loss: 0.2649 - val_accuracy: 0.9225\n",
      "Epoch 15/25\n",
      "60000/60000 [==============================] - 15s 247us/step - loss: 0.1020 - accuracy: 0.9644 - val_loss: 0.2922 - val_accuracy: 0.9219\n",
      "Epoch 16/25\n",
      "60000/60000 [==============================] - 15s 248us/step - loss: 0.0947 - accuracy: 0.9659 - val_loss: 0.2749 - val_accuracy: 0.9302\n",
      "Epoch 17/25\n",
      "60000/60000 [==============================] - 15s 248us/step - loss: 0.0875 - accuracy: 0.9687 - val_loss: 0.2671 - val_accuracy: 0.9319\n",
      "Epoch 18/25\n",
      "60000/60000 [==============================] - 15s 248us/step - loss: 0.0807 - accuracy: 0.9714 - val_loss: 0.2680 - val_accuracy: 0.9306\n",
      "Epoch 19/25\n",
      "60000/60000 [==============================] - 15s 247us/step - loss: 0.0815 - accuracy: 0.9715 - val_loss: 0.3387 - val_accuracy: 0.9201\n",
      "Epoch 20/25\n",
      "60000/60000 [==============================] - 15s 247us/step - loss: 0.0764 - accuracy: 0.9728 - val_loss: 0.3045 - val_accuracy: 0.9291\n",
      "Epoch 21/25\n",
      "60000/60000 [==============================] - 15s 244us/step - loss: 0.0705 - accuracy: 0.9755 - val_loss: 0.3144 - val_accuracy: 0.9289\n",
      "Epoch 22/25\n",
      "60000/60000 [==============================] - 15s 247us/step - loss: 0.0710 - accuracy: 0.9757 - val_loss: 0.2987 - val_accuracy: 0.9290\n",
      "Epoch 23/25\n",
      "60000/60000 [==============================] - 15s 246us/step - loss: 0.0658 - accuracy: 0.9774 - val_loss: 0.3018 - val_accuracy: 0.9311\n",
      "Epoch 24/25\n",
      "60000/60000 [==============================] - 15s 249us/step - loss: 0.0629 - accuracy: 0.9780 - val_loss: 0.3242 - val_accuracy: 0.9265\n",
      "Epoch 25/25\n",
      "60000/60000 [==============================] - 15s 248us/step - loss: 0.0615 - accuracy: 0.9798 - val_loss: 0.2966 - val_accuracy: 0.9317\n",
      "Test Accuracy: 0.9355000257492065\n",
      "\n",
      "Learning_rate: 0.01, Batch_size: 32\n",
      "Model: \"sequential_28\"\n",
      "_________________________________________________________________\n",
      "Layer (type)                 Output Shape              Param #   \n",
      "=================================================================\n",
      "conv2d_39 (Conv2D)           (None, 26, 26, 64)        640       \n",
      "_________________________________________________________________\n",
      "batch_normalization_11 (Batc (None, 26, 26, 64)        256       \n",
      "_________________________________________________________________\n",
      "conv2d_40 (Conv2D)           (None, 24, 24, 64)        36928     \n",
      "_________________________________________________________________\n",
      "batch_normalization_12 (Batc (None, 24, 24, 64)        256       \n",
      "_________________________________________________________________\n",
      "max_pooling2d_30 (MaxPooling (None, 12, 12, 64)        0         \n",
      "_________________________________________________________________\n",
      "dropout_9 (Dropout)          (None, 12, 12, 64)        0         \n",
      "_________________________________________________________________\n",
      "conv2d_41 (Conv2D)           (None, 10, 10, 128)       73856     \n",
      "_________________________________________________________________\n",
      "batch_normalization_13 (Batc (None, 10, 10, 128)       512       \n",
      "_________________________________________________________________\n",
      "conv2d_42 (Conv2D)           (None, 8, 8, 128)         147584    \n",
      "_________________________________________________________________\n",
      "batch_normalization_14 (Batc (None, 8, 8, 128)         512       \n",
      "_________________________________________________________________\n",
      "max_pooling2d_31 (MaxPooling (None, 4, 4, 128)         0         \n",
      "_________________________________________________________________\n",
      "dropout_10 (Dropout)         (None, 4, 4, 128)         0         \n",
      "_________________________________________________________________\n",
      "flatten_27 (Flatten)         (None, 2048)              0         \n",
      "_________________________________________________________________\n",
      "dense_55 (Dense)             (None, 1024)              2098176   \n",
      "_________________________________________________________________\n",
      "dropout_11 (Dropout)         (None, 1024)              0         \n",
      "_________________________________________________________________\n",
      "dense_56 (Dense)             (None, 512)               524800    \n",
      "_________________________________________________________________\n",
      "dropout_12 (Dropout)         (None, 512)               0         \n",
      "_________________________________________________________________\n",
      "dense_57 (Dense)             (None, 10)                5130      \n",
      "=================================================================\n",
      "Total params: 2,888,650\n",
      "Trainable params: 2,887,882\n",
      "Non-trainable params: 768\n",
      "_________________________________________________________________\n",
      "Train on 60000 samples, validate on 8000 samples\n",
      "Epoch 1/25\n",
      "60000/60000 [==============================] - 26s 427us/step - loss: 1.0205 - accuracy: 0.6968 - val_loss: 0.5885 - val_accuracy: 0.7832\n",
      "Epoch 2/25\n",
      "60000/60000 [==============================] - 25s 411us/step - loss: 0.6492 - accuracy: 0.7696 - val_loss: 0.5935 - val_accuracy: 0.7366\n",
      "Epoch 3/25\n",
      "60000/60000 [==============================] - 25s 419us/step - loss: 0.6629 - accuracy: 0.7811 - val_loss: 0.5433 - val_accuracy: 0.8124\n",
      "Epoch 4/25\n",
      "60000/60000 [==============================] - 25s 417us/step - loss: 0.7023 - accuracy: 0.7739 - val_loss: 0.5571 - val_accuracy: 0.8211\n",
      "Epoch 5/25\n",
      "60000/60000 [==============================] - 25s 416us/step - loss: 0.7173 - accuracy: 0.7697 - val_loss: 0.5578 - val_accuracy: 0.8105\n",
      "Epoch 6/25\n",
      "60000/60000 [==============================] - 25s 411us/step - loss: 0.7518 - accuracy: 0.7649 - val_loss: 0.5363 - val_accuracy: 0.8340\n",
      "Epoch 7/25\n",
      "60000/60000 [==============================] - 25s 414us/step - loss: 0.6536 - accuracy: 0.7895 - val_loss: 0.5401 - val_accuracy: 0.8144\n",
      "Epoch 8/25\n",
      "60000/60000 [==============================] - 25s 412us/step - loss: 0.6668 - accuracy: 0.7851 - val_loss: 0.6583 - val_accuracy: 0.7529\n",
      "Epoch 9/25\n",
      "60000/60000 [==============================] - 25s 418us/step - loss: 0.7271 - accuracy: 0.7684 - val_loss: 0.6056 - val_accuracy: 0.8324\n",
      "Epoch 10/25\n",
      "60000/60000 [==============================] - 25s 421us/step - loss: 0.7278 - accuracy: 0.7718 - val_loss: 0.6272 - val_accuracy: 0.8382\n",
      "Epoch 11/25\n",
      "60000/60000 [==============================] - 25s 416us/step - loss: 0.7460 - accuracy: 0.7666 - val_loss: 0.8323 - val_accuracy: 0.6971\n",
      "Epoch 12/25\n",
      "60000/60000 [==============================] - 25s 416us/step - loss: 0.8196 - accuracy: 0.7504 - val_loss: 0.6615 - val_accuracy: 0.8062\n",
      "Epoch 13/25\n",
      "60000/60000 [==============================] - 25s 414us/step - loss: 0.8222 - accuracy: 0.7454 - val_loss: 0.5349 - val_accuracy: 0.8381\n",
      "Epoch 14/25\n",
      "60000/60000 [==============================] - 25s 413us/step - loss: 0.9158 - accuracy: 0.7281 - val_loss: 0.7792 - val_accuracy: 0.7484\n",
      "Epoch 15/25\n",
      "60000/60000 [==============================] - 25s 413us/step - loss: 0.7734 - accuracy: 0.7563 - val_loss: 0.7013 - val_accuracy: 0.8179\n",
      "Epoch 16/25\n",
      "60000/60000 [==============================] - 25s 412us/step - loss: 0.9085 - accuracy: 0.7178 - val_loss: 0.6173 - val_accuracy: 0.7916\n",
      "Epoch 17/25\n",
      "60000/60000 [==============================] - 25s 412us/step - loss: 0.8021 - accuracy: 0.7357 - val_loss: 0.6155 - val_accuracy: 0.7954\n",
      "Epoch 18/25\n",
      "60000/60000 [==============================] - 25s 412us/step - loss: 0.8520 - accuracy: 0.7245 - val_loss: 0.8674 - val_accuracy: 0.7774\n",
      "Epoch 19/25\n",
      "60000/60000 [==============================] - 25s 413us/step - loss: 1.0043 - accuracy: 0.6824 - val_loss: 0.7458 - val_accuracy: 0.7639\n",
      "Epoch 20/25\n",
      "60000/60000 [==============================] - 25s 411us/step - loss: 0.9613 - accuracy: 0.7019 - val_loss: 0.7077 - val_accuracy: 0.7501\n",
      "Epoch 21/25\n",
      "60000/60000 [==============================] - 25s 413us/step - loss: 0.8824 - accuracy: 0.7186 - val_loss: 0.8027 - val_accuracy: 0.7529\n",
      "Epoch 22/25\n",
      "60000/60000 [==============================] - 25s 418us/step - loss: 0.9843 - accuracy: 0.7082 - val_loss: 0.8340 - val_accuracy: 0.7678\n",
      "Epoch 23/25\n",
      "60000/60000 [==============================] - 25s 416us/step - loss: 1.0864 - accuracy: 0.6668 - val_loss: 0.7642 - val_accuracy: 0.7384\n",
      "Epoch 24/25\n",
      "60000/60000 [==============================] - 25s 417us/step - loss: 1.0428 - accuracy: 0.6846 - val_loss: 0.8411 - val_accuracy: 0.7113\n",
      "Epoch 25/25\n",
      "60000/60000 [==============================] - 25s 420us/step - loss: 1.0545 - accuracy: 0.6693 - val_loss: 0.8213 - val_accuracy: 0.7293\n",
      "Test Accuracy: 0.7409999966621399\n",
      "\n",
      "Learning_rate: 0.01, Batch_size: 64\n",
      "Model: \"sequential_29\"\n",
      "_________________________________________________________________\n",
      "Layer (type)                 Output Shape              Param #   \n",
      "=================================================================\n",
      "conv2d_43 (Conv2D)           (None, 26, 26, 64)        640       \n",
      "_________________________________________________________________\n",
      "batch_normalization_15 (Batc (None, 26, 26, 64)        256       \n",
      "_________________________________________________________________\n",
      "conv2d_44 (Conv2D)           (None, 24, 24, 64)        36928     \n",
      "_________________________________________________________________\n",
      "batch_normalization_16 (Batc (None, 24, 24, 64)        256       \n",
      "_________________________________________________________________\n",
      "max_pooling2d_32 (MaxPooling (None, 12, 12, 64)        0         \n",
      "_________________________________________________________________\n",
      "dropout_13 (Dropout)         (None, 12, 12, 64)        0         \n",
      "_________________________________________________________________\n",
      "conv2d_45 (Conv2D)           (None, 10, 10, 128)       73856     \n",
      "_________________________________________________________________\n",
      "batch_normalization_17 (Batc (None, 10, 10, 128)       512       \n",
      "_________________________________________________________________\n",
      "conv2d_46 (Conv2D)           (None, 8, 8, 128)         147584    \n",
      "_________________________________________________________________\n",
      "batch_normalization_18 (Batc (None, 8, 8, 128)         512       \n",
      "_________________________________________________________________\n",
      "max_pooling2d_33 (MaxPooling (None, 4, 4, 128)         0         \n",
      "_________________________________________________________________\n",
      "dropout_14 (Dropout)         (None, 4, 4, 128)         0         \n",
      "_________________________________________________________________\n",
      "flatten_28 (Flatten)         (None, 2048)              0         \n",
      "_________________________________________________________________\n",
      "dense_58 (Dense)             (None, 1024)              2098176   \n",
      "_________________________________________________________________\n",
      "dropout_15 (Dropout)         (None, 1024)              0         \n",
      "_________________________________________________________________\n",
      "dense_59 (Dense)             (None, 512)               524800    \n",
      "_________________________________________________________________\n",
      "dropout_16 (Dropout)         (None, 512)               0         \n",
      "_________________________________________________________________\n",
      "dense_60 (Dense)             (None, 10)                5130      \n",
      "=================================================================\n",
      "Total params: 2,888,650\n",
      "Trainable params: 2,887,882\n",
      "Non-trainable params: 768\n",
      "_________________________________________________________________\n",
      "Train on 60000 samples, validate on 8000 samples\n",
      "Epoch 1/25\n",
      "60000/60000 [==============================] - 16s 264us/step - loss: 1.0641 - accuracy: 0.6855 - val_loss: 0.6790 - val_accuracy: 0.7531\n",
      "Epoch 2/25\n",
      "60000/60000 [==============================] - 15s 246us/step - loss: 0.5858 - accuracy: 0.7847 - val_loss: 0.4899 - val_accuracy: 0.8125\n",
      "Epoch 3/25\n",
      "60000/60000 [==============================] - 15s 247us/step - loss: 0.4897 - accuracy: 0.8263 - val_loss: 0.4038 - val_accuracy: 0.8620\n",
      "Epoch 4/25\n",
      "60000/60000 [==============================] - 15s 246us/step - loss: 0.4832 - accuracy: 0.8355 - val_loss: 0.5025 - val_accuracy: 0.8435\n",
      "Epoch 5/25\n",
      "60000/60000 [==============================] - 15s 244us/step - loss: 0.4921 - accuracy: 0.8382 - val_loss: 0.4001 - val_accuracy: 0.8641\n",
      "Epoch 6/25\n",
      "60000/60000 [==============================] - 15s 246us/step - loss: 0.4777 - accuracy: 0.8462 - val_loss: 0.4365 - val_accuracy: 0.8525\n",
      "Epoch 7/25\n",
      "60000/60000 [==============================] - 15s 244us/step - loss: 0.4654 - accuracy: 0.8495 - val_loss: 0.4231 - val_accuracy: 0.8466\n",
      "Epoch 8/25\n",
      "60000/60000 [==============================] - 15s 245us/step - loss: 0.4534 - accuracy: 0.8521 - val_loss: 0.3430 - val_accuracy: 0.8809\n",
      "Epoch 9/25\n",
      "60000/60000 [==============================] - 15s 244us/step - loss: 0.4799 - accuracy: 0.8469 - val_loss: 0.4545 - val_accuracy: 0.8569\n",
      "Epoch 10/25\n",
      "60000/60000 [==============================] - 15s 245us/step - loss: 0.4603 - accuracy: 0.8521 - val_loss: 0.5185 - val_accuracy: 0.8608\n",
      "Epoch 11/25\n",
      "60000/60000 [==============================] - 15s 245us/step - loss: 0.4820 - accuracy: 0.8491 - val_loss: 0.3848 - val_accuracy: 0.8857\n",
      "Epoch 12/25\n",
      "60000/60000 [==============================] - 15s 245us/step - loss: 0.4441 - accuracy: 0.8608 - val_loss: 0.4064 - val_accuracy: 0.8769\n",
      "Epoch 13/25\n",
      "60000/60000 [==============================] - 15s 245us/step - loss: 0.5008 - accuracy: 0.8470 - val_loss: 0.3482 - val_accuracy: 0.8879\n",
      "Epoch 14/25\n",
      "60000/60000 [==============================] - 15s 245us/step - loss: 0.4361 - accuracy: 0.8583 - val_loss: 0.4086 - val_accuracy: 0.8624\n",
      "Epoch 15/25\n",
      "60000/60000 [==============================] - 15s 245us/step - loss: 0.5097 - accuracy: 0.8396 - val_loss: 0.3878 - val_accuracy: 0.8714\n",
      "Epoch 16/25\n",
      "60000/60000 [==============================] - 15s 247us/step - loss: 0.4549 - accuracy: 0.8550 - val_loss: 0.3858 - val_accuracy: 0.8836\n",
      "Epoch 17/25\n",
      "60000/60000 [==============================] - 15s 246us/step - loss: 0.5162 - accuracy: 0.8422 - val_loss: 0.5199 - val_accuracy: 0.8720\n",
      "Epoch 18/25\n",
      "60000/60000 [==============================] - 15s 245us/step - loss: 0.4831 - accuracy: 0.8464 - val_loss: 0.4165 - val_accuracy: 0.8739\n",
      "Epoch 19/25\n",
      "60000/60000 [==============================] - 15s 246us/step - loss: 0.4791 - accuracy: 0.8488 - val_loss: 0.3478 - val_accuracy: 0.8914\n",
      "Epoch 20/25\n",
      "60000/60000 [==============================] - 15s 250us/step - loss: 0.4357 - accuracy: 0.8605 - val_loss: 0.3666 - val_accuracy: 0.8734\n",
      "Epoch 21/25\n",
      "60000/60000 [==============================] - 15s 246us/step - loss: 0.5016 - accuracy: 0.8490 - val_loss: 0.5288 - val_accuracy: 0.8551\n",
      "Epoch 22/25\n",
      "60000/60000 [==============================] - 15s 247us/step - loss: 0.4874 - accuracy: 0.8449 - val_loss: 0.7358 - val_accuracy: 0.8525\n",
      "Epoch 23/25\n",
      "60000/60000 [==============================] - 15s 246us/step - loss: 0.4623 - accuracy: 0.8520 - val_loss: 0.4267 - val_accuracy: 0.8914\n",
      "Epoch 24/25\n",
      "60000/60000 [==============================] - 15s 246us/step - loss: 0.5640 - accuracy: 0.8317 - val_loss: 0.5659 - val_accuracy: 0.8201\n",
      "Epoch 25/25\n",
      "60000/60000 [==============================] - 15s 245us/step - loss: 0.5264 - accuracy: 0.8378 - val_loss: 0.3706 - val_accuracy: 0.8820\n",
      "Test Accuracy: 0.8755000233650208\n",
      "\n",
      "Learning_rate: 0.1, Batch_size: 32\n",
      "Model: \"sequential_30\"\n",
      "_________________________________________________________________\n",
      "Layer (type)                 Output Shape              Param #   \n",
      "=================================================================\n",
      "conv2d_47 (Conv2D)           (None, 26, 26, 64)        640       \n",
      "_________________________________________________________________\n",
      "batch_normalization_19 (Batc (None, 26, 26, 64)        256       \n",
      "_________________________________________________________________\n",
      "conv2d_48 (Conv2D)           (None, 24, 24, 64)        36928     \n",
      "_________________________________________________________________\n",
      "batch_normalization_20 (Batc (None, 24, 24, 64)        256       \n",
      "_________________________________________________________________\n",
      "max_pooling2d_34 (MaxPooling (None, 12, 12, 64)        0         \n",
      "_________________________________________________________________\n",
      "dropout_17 (Dropout)         (None, 12, 12, 64)        0         \n",
      "_________________________________________________________________\n",
      "conv2d_49 (Conv2D)           (None, 10, 10, 128)       73856     \n",
      "_________________________________________________________________\n",
      "batch_normalization_21 (Batc (None, 10, 10, 128)       512       \n",
      "_________________________________________________________________\n",
      "conv2d_50 (Conv2D)           (None, 8, 8, 128)         147584    \n",
      "_________________________________________________________________\n",
      "batch_normalization_22 (Batc (None, 8, 8, 128)         512       \n",
      "_________________________________________________________________\n",
      "max_pooling2d_35 (MaxPooling (None, 4, 4, 128)         0         \n",
      "_________________________________________________________________\n",
      "dropout_18 (Dropout)         (None, 4, 4, 128)         0         \n",
      "_________________________________________________________________\n",
      "flatten_29 (Flatten)         (None, 2048)              0         \n",
      "_________________________________________________________________\n",
      "dense_61 (Dense)             (None, 1024)              2098176   \n",
      "_________________________________________________________________\n",
      "dropout_19 (Dropout)         (None, 1024)              0         \n",
      "_________________________________________________________________\n",
      "dense_62 (Dense)             (None, 512)               524800    \n",
      "_________________________________________________________________\n",
      "dropout_20 (Dropout)         (None, 512)               0         \n",
      "_________________________________________________________________\n",
      "dense_63 (Dense)             (None, 10)                5130      \n",
      "=================================================================\n",
      "Total params: 2,888,650\n",
      "Trainable params: 2,887,882\n",
      "Non-trainable params: 768\n",
      "_________________________________________________________________\n",
      "Train on 60000 samples, validate on 8000 samples\n",
      "Epoch 1/25\n",
      "60000/60000 [==============================] - 26s 431us/step - loss: 14.3207 - accuracy: 0.1013 - val_loss: 2.3218 - val_accuracy: 0.0990\n",
      "Epoch 2/25\n",
      "60000/60000 [==============================] - 25s 416us/step - loss: 2.3157 - accuracy: 0.0997 - val_loss: 2.3123 - val_accuracy: 0.0988\n",
      "Epoch 3/25\n",
      "60000/60000 [==============================] - 25s 417us/step - loss: 2.3637 - accuracy: 0.0993 - val_loss: 2.3189 - val_accuracy: 0.1069\n",
      "Epoch 4/25\n",
      "60000/60000 [==============================] - 25s 416us/step - loss: 8.4249 - accuracy: 0.1001 - val_loss: 2.3141 - val_accuracy: 0.1031\n",
      "Epoch 5/25\n",
      "60000/60000 [==============================] - 25s 419us/step - loss: 2.6016 - accuracy: 0.0998 - val_loss: 32741.5930 - val_accuracy: 0.1009\n",
      "Epoch 6/25\n",
      "60000/60000 [==============================] - 25s 418us/step - loss: 2.3161 - accuracy: 0.0994 - val_loss: 1783114.9893 - val_accuracy: 0.1014\n",
      "Epoch 7/25\n",
      "60000/60000 [==============================] - 25s 415us/step - loss: 2.3160 - accuracy: 0.0972 - val_loss: 9767.6466 - val_accuracy: 0.1009\n",
      "Epoch 8/25\n",
      "60000/60000 [==============================] - 25s 412us/step - loss: 2.3161 - accuracy: 0.0991 - val_loss: 2485067.8315 - val_accuracy: 0.0994\n",
      "Epoch 9/25\n",
      "60000/60000 [==============================] - 25s 422us/step - loss: 2.3152 - accuracy: 0.0985 - val_loss: 35223.8449 - val_accuracy: 0.0988\n",
      "Epoch 10/25\n",
      "60000/60000 [==============================] - 25s 419us/step - loss: 2.7300 - accuracy: 0.1005 - val_loss: 2.3189 - val_accuracy: 0.0988\n",
      "Epoch 11/25\n",
      "60000/60000 [==============================] - 25s 421us/step - loss: 2.3154 - accuracy: 0.0997 - val_loss: 2.3222 - val_accuracy: 0.1013\n",
      "Epoch 12/25\n",
      "60000/60000 [==============================] - 25s 417us/step - loss: 2.3148 - accuracy: 0.1014 - val_loss: 2.3326 - val_accuracy: 0.1009\n",
      "Epoch 13/25\n",
      "60000/60000 [==============================] - 25s 417us/step - loss: 2.3150 - accuracy: 0.0992 - val_loss: 2.3088 - val_accuracy: 0.0990\n",
      "Epoch 14/25\n",
      "60000/60000 [==============================] - 25s 416us/step - loss: 2.3147 - accuracy: 0.1013 - val_loss: 2.3137 - val_accuracy: 0.0990\n",
      "Epoch 15/25\n",
      "60000/60000 [==============================] - 25s 414us/step - loss: 2.3155 - accuracy: 0.1016 - val_loss: 2.3122 - val_accuracy: 0.1013\n",
      "Epoch 16/25\n",
      "60000/60000 [==============================] - 25s 417us/step - loss: 2.5375 - accuracy: 0.0982 - val_loss: 2.3118 - val_accuracy: 0.0990\n",
      "Epoch 17/25\n",
      "60000/60000 [==============================] - 25s 416us/step - loss: 2.3150 - accuracy: 0.1009 - val_loss: 2.3139 - val_accuracy: 0.0988\n",
      "Epoch 18/25\n",
      "60000/60000 [==============================] - 25s 416us/step - loss: 2.3150 - accuracy: 0.0988 - val_loss: 2.3138 - val_accuracy: 0.0983\n",
      "Epoch 19/25\n",
      "60000/60000 [==============================] - 25s 414us/step - loss: 2.3141 - accuracy: 0.0999 - val_loss: 2.3235 - val_accuracy: 0.0970\n",
      "Epoch 20/25\n",
      "60000/60000 [==============================] - 25s 412us/step - loss: 2.3152 - accuracy: 0.1022 - val_loss: 2.3188 - val_accuracy: 0.1013\n",
      "Epoch 21/25\n",
      "60000/60000 [==============================] - 25s 411us/step - loss: 2.3151 - accuracy: 0.0998 - val_loss: 2.3137 - val_accuracy: 0.1031\n",
      "Epoch 22/25\n",
      "60000/60000 [==============================] - 25s 416us/step - loss: 2.3143 - accuracy: 0.1013 - val_loss: 2.3141 - val_accuracy: 0.0983\n",
      "Epoch 23/25\n",
      "60000/60000 [==============================] - 24s 405us/step - loss: 2.3141 - accuracy: 0.1010 - val_loss: 2.3181 - val_accuracy: 0.0988\n",
      "Epoch 24/25\n",
      "60000/60000 [==============================] - 24s 404us/step - loss: 2.3146 - accuracy: 0.1006 - val_loss: 2.3179 - val_accuracy: 0.0988\n",
      "Epoch 25/25\n",
      "60000/60000 [==============================] - 24s 405us/step - loss: 2.3148 - accuracy: 0.0989 - val_loss: 2.3153 - val_accuracy: 0.0988\n",
      "Test Accuracy: 0.10499999672174454\n",
      "\n",
      "Learning_rate: 0.1, Batch_size: 64\n",
      "Model: \"sequential_31\"\n",
      "_________________________________________________________________\n",
      "Layer (type)                 Output Shape              Param #   \n",
      "=================================================================\n",
      "conv2d_51 (Conv2D)           (None, 26, 26, 64)        640       \n",
      "_________________________________________________________________\n",
      "batch_normalization_23 (Batc (None, 26, 26, 64)        256       \n",
      "_________________________________________________________________\n",
      "conv2d_52 (Conv2D)           (None, 24, 24, 64)        36928     \n",
      "_________________________________________________________________\n",
      "batch_normalization_24 (Batc (None, 24, 24, 64)        256       \n",
      "_________________________________________________________________\n",
      "max_pooling2d_36 (MaxPooling (None, 12, 12, 64)        0         \n",
      "_________________________________________________________________\n",
      "dropout_21 (Dropout)         (None, 12, 12, 64)        0         \n",
      "_________________________________________________________________\n",
      "conv2d_53 (Conv2D)           (None, 10, 10, 128)       73856     \n",
      "_________________________________________________________________\n",
      "batch_normalization_25 (Batc (None, 10, 10, 128)       512       \n",
      "_________________________________________________________________\n",
      "conv2d_54 (Conv2D)           (None, 8, 8, 128)         147584    \n",
      "_________________________________________________________________\n",
      "batch_normalization_26 (Batc (None, 8, 8, 128)         512       \n",
      "_________________________________________________________________\n",
      "max_pooling2d_37 (MaxPooling (None, 4, 4, 128)         0         \n",
      "_________________________________________________________________\n",
      "dropout_22 (Dropout)         (None, 4, 4, 128)         0         \n",
      "_________________________________________________________________\n",
      "flatten_30 (Flatten)         (None, 2048)              0         \n",
      "_________________________________________________________________\n",
      "dense_64 (Dense)             (None, 1024)              2098176   \n",
      "_________________________________________________________________\n",
      "dropout_23 (Dropout)         (None, 1024)              0         \n",
      "_________________________________________________________________\n",
      "dense_65 (Dense)             (None, 512)               524800    \n",
      "_________________________________________________________________\n",
      "dropout_24 (Dropout)         (None, 512)               0         \n",
      "_________________________________________________________________\n",
      "dense_66 (Dense)             (None, 10)                5130      \n",
      "=================================================================\n",
      "Total params: 2,888,650\n",
      "Trainable params: 2,887,882\n",
      "Non-trainable params: 768\n",
      "_________________________________________________________________\n",
      "Train on 60000 samples, validate on 8000 samples\n",
      "Epoch 1/25\n",
      "60000/60000 [==============================] - 16s 263us/step - loss: 22.1273 - accuracy: 0.1015 - val_loss: 2.3121 - val_accuracy: 0.0988\n",
      "Epoch 2/25\n",
      "60000/60000 [==============================] - 15s 246us/step - loss: 2.3375 - accuracy: 0.0984 - val_loss: 2.3098 - val_accuracy: 0.1009\n",
      "Epoch 3/25\n",
      "60000/60000 [==============================] - 15s 246us/step - loss: 2.3148 - accuracy: 0.0991 - val_loss: 2.3103 - val_accuracy: 0.1031\n",
      "Epoch 4/25\n",
      "60000/60000 [==============================] - 15s 247us/step - loss: 2.3130 - accuracy: 0.0992 - val_loss: 2.3115 - val_accuracy: 0.1013\n",
      "Epoch 5/25\n",
      "60000/60000 [==============================] - 15s 246us/step - loss: 2.7689 - accuracy: 0.0998 - val_loss: 2.3225 - val_accuracy: 0.1031\n",
      "Epoch 6/25\n",
      "60000/60000 [==============================] - 15s 247us/step - loss: 2.3131 - accuracy: 0.1013 - val_loss: 2.3191 - val_accuracy: 0.0988\n",
      "Epoch 7/25\n",
      "60000/60000 [==============================] - 15s 244us/step - loss: 2.3108 - accuracy: 0.0989 - val_loss: 2.3085 - val_accuracy: 0.1013\n",
      "Epoch 8/25\n",
      "60000/60000 [==============================] - 15s 251us/step - loss: 2.3111 - accuracy: 0.1002 - val_loss: 2.3107 - val_accuracy: 0.0988\n",
      "Epoch 9/25\n",
      "60000/60000 [==============================] - 15s 246us/step - loss: 2.3115 - accuracy: 0.1003 - val_loss: 2.3247 - val_accuracy: 0.0970\n",
      "Epoch 10/25\n",
      "60000/60000 [==============================] - 15s 248us/step - loss: 2.3113 - accuracy: 0.0999 - val_loss: 2.3126 - val_accuracy: 0.0990\n",
      "Epoch 11/25\n",
      "60000/60000 [==============================] - 15s 247us/step - loss: 2.3111 - accuracy: 0.1001 - val_loss: 2.3091 - val_accuracy: 0.0990\n",
      "Epoch 12/25\n",
      "60000/60000 [==============================] - 15s 246us/step - loss: 2.3112 - accuracy: 0.1014 - val_loss: 2.3124 - val_accuracy: 0.1031\n",
      "Epoch 13/25\n",
      "60000/60000 [==============================] - 15s 246us/step - loss: 2.3115 - accuracy: 0.0996 - val_loss: 2.3080 - val_accuracy: 0.0970\n",
      "Epoch 14/25\n",
      "60000/60000 [==============================] - 15s 248us/step - loss: 2.3119 - accuracy: 0.0990 - val_loss: 2.3083 - val_accuracy: 0.0988\n",
      "Epoch 15/25\n",
      "60000/60000 [==============================] - 15s 249us/step - loss: 2.3116 - accuracy: 0.0999 - val_loss: 2.3140 - val_accuracy: 0.0988\n",
      "Epoch 16/25\n",
      "60000/60000 [==============================] - 15s 248us/step - loss: 2.3122 - accuracy: 0.0987 - val_loss: 2.3136 - val_accuracy: 0.0983\n",
      "Epoch 17/25\n",
      "60000/60000 [==============================] - 15s 246us/step - loss: 2.3120 - accuracy: 0.0982 - val_loss: 2.3043 - val_accuracy: 0.1031\n",
      "Epoch 18/25\n",
      "60000/60000 [==============================] - 15s 246us/step - loss: 2.3109 - accuracy: 0.0991 - val_loss: 2.3115 - val_accuracy: 0.0990\n",
      "Epoch 19/25\n",
      "60000/60000 [==============================] - 15s 249us/step - loss: 2.3119 - accuracy: 0.1008 - val_loss: 2.3150 - val_accuracy: 0.0970\n",
      "Epoch 20/25\n",
      "60000/60000 [==============================] - 15s 249us/step - loss: 2.3112 - accuracy: 0.1011 - val_loss: 2.3079 - val_accuracy: 0.1034\n",
      "Epoch 21/25\n",
      "60000/60000 [==============================] - 15s 248us/step - loss: 2.3956 - accuracy: 0.1007 - val_loss: 1639180430.8480 - val_accuracy: 0.2016\n",
      "Epoch 22/25\n",
      "60000/60000 [==============================] - 15s 249us/step - loss: 2.3125 - accuracy: 0.0978 - val_loss: 2.3046 - val_accuracy: 0.1034\n",
      "Epoch 23/25\n",
      "60000/60000 [==============================] - 15s 248us/step - loss: 2.3112 - accuracy: 0.0985 - val_loss: 2.3130 - val_accuracy: 0.0988\n",
      "Epoch 24/25\n",
      "60000/60000 [==============================] - 15s 249us/step - loss: 3.3273 - accuracy: 0.1003 - val_loss: 1499.1114 - val_accuracy: 0.0988\n",
      "Epoch 25/25\n",
      "60000/60000 [==============================] - 15s 249us/step - loss: 2.3113 - accuracy: 0.1005 - val_loss: 1797.5266 - val_accuracy: 0.1009\n",
      "Test Accuracy: 0.09650000184774399\n"
     ]
    },
    {
     "data": {
      "image/png": "[encoded data removed]",
      "text/plain": [
       "<Figure size 864x864 with 6 Axes>"
      ]
     },
     "metadata": {
      "needs_background": "light",
      "tags": []
     },
     "output_type": "display_data"
    }
   ],
   "source": [
    "import itertools\n",
    "learning_rate = [0.001, 0.01, 0.1]\n",
    "batch_size = [32, 64]\n",
    "grid = list(itertools.product(learning_rate, batch_size))\n",
    "plt.figure(figsize=(12, 12))\n",
    "for params in grid:\n",
    "  print(\"\\nLearning_rate: {}, Batch_size: {}\".format(params[0], params[1]))\n",
    "  plt.subplot(3, 2, grid.index(params) + 1)\n",
    "  model2 = model_2(params[0])\n",
    "  fit_and_evaluate_model(model2, params[0], params[1], 25)\n",
    "plt.tight_layout()\n",
    "plt.show()"
   ]
  },
  {
   "cell_type": "markdown",
   "metadata": {},
   "source": [
    "#### So, learning rate of 0.001 is most appropriate. Batch size has no significant impact"
   ]
  }
 ],
 "metadata": {
  "accelerator": "GPU",
  "colab": {
   "authorship_tag": "ABX9TyPXYH0iaFdmX0X+mYQ18m40",
   "mount_file_id": "1Zlsn6NCN4SX3LZcp8DxsKIbuqajGg83y",
   "name": "Fashion_MNIST.ipynb",
   "provenance": []
  },
  "kernelspec": {
   "display_name": "Python 3",
   "language": "python",
   "name": "python3"
  },
  "language_info": {
   "codemirror_mode": {
    "name": "ipython",
    "version": 3
   },
   "file_extension": ".py",
   "mimetype": "text/x-python",
   "name": "python",
   "nbconvert_exporter": "python",
   "pygments_lexer": "ipython3",
   "version": "3.7.4"
  }
 },
 "nbformat": 4,
 "nbformat_minor": 4
}
